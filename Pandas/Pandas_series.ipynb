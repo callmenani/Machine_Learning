{
  "nbformat": 4,
  "nbformat_minor": 0,
  "metadata": {
    "colab": {
      "name": "Pandas_series.ipynb",
      "provenance": []
    },
    "kernelspec": {
      "name": "python3",
      "display_name": "Python 3"
    },
    "language_info": {
      "name": "python"
    }
  },
  "cells": [
    {
      "cell_type": "code",
      "execution_count": 1,
      "metadata": {
        "id": "o-BS2d9YCTne"
      },
      "outputs": [],
      "source": [
        "import pandas as pd"
      ]
    },
    {
      "cell_type": "code",
      "source": [
        "import numpy as np"
      ],
      "metadata": {
        "id": "FGNPasggCh8v"
      },
      "execution_count": 2,
      "outputs": []
    },
    {
      "cell_type": "code",
      "source": [
        "ind =[\"harsha\",\"shanmukh\",\"rupesh\"]"
      ],
      "metadata": {
        "id": "owSoLrd2WUab"
      },
      "execution_count": 3,
      "outputs": []
    },
    {
      "cell_type": "code",
      "source": [
        "package =[\"12lpa\",\"15lpa\",\"9lpa\"]"
      ],
      "metadata": {
        "id": "BNnPL61gdxZP"
      },
      "execution_count": 4,
      "outputs": []
    },
    {
      "cell_type": "code",
      "source": [
        "my_ser = pd.Series(index=ind,data=package)"
      ],
      "metadata": {
        "id": "FSRFhFgad71O"
      },
      "execution_count": 5,
      "outputs": []
    },
    {
      "cell_type": "code",
      "source": [
        "my_ser"
      ],
      "metadata": {
        "colab": {
          "base_uri": "https://localhost:8080/"
        },
        "id": "uYJnwHe9e_zp",
        "outputId": "281446bd-783f-49e9-c42a-8b6f28ecff34"
      },
      "execution_count": 6,
      "outputs": [
        {
          "output_type": "execute_result",
          "data": {
            "text/plain": [
              "harsha      12lpa\n",
              "shanmukh    15lpa\n",
              "rupesh       9lpa\n",
              "dtype: object"
            ]
          },
          "metadata": {},
          "execution_count": 6
        }
      ]
    },
    {
      "cell_type": "code",
      "source": [
        "# dict to series"
      ],
      "metadata": {
        "id": "D1YIV6XUfBED"
      },
      "execution_count": 7,
      "outputs": []
    },
    {
      "cell_type": "code",
      "source": [
        "my_dict = {\"hii\":2,\"jai\":4,\"fck\":9}"
      ],
      "metadata": {
        "id": "ysXaE99HfwQA"
      },
      "execution_count": 8,
      "outputs": []
    },
    {
      "cell_type": "code",
      "source": [
        "my_ser2=pd.Series(my_dict)"
      ],
      "metadata": {
        "id": "sHO3ObPZf_TG"
      },
      "execution_count": 10,
      "outputs": []
    },
    {
      "cell_type": "code",
      "source": [
        "my_ser2['hii']"
      ],
      "metadata": {
        "colab": {
          "base_uri": "https://localhost:8080/"
        },
        "id": "gTA98dQ0gC9Y",
        "outputId": "dd5dd211-3202-4846-e69b-d9a995d92b42"
      },
      "execution_count": 11,
      "outputs": [
        {
          "output_type": "execute_result",
          "data": {
            "text/plain": [
              "2"
            ]
          },
          "metadata": {},
          "execution_count": 11
        }
      ]
    },
    {
      "cell_type": "code",
      "source": [
        "my_ser2.keys()"
      ],
      "metadata": {
        "colab": {
          "base_uri": "https://localhost:8080/"
        },
        "id": "BkK2DLEuj5MB",
        "outputId": "9f4c6c2d-ea80-492f-8513-167a8016256f"
      },
      "execution_count": 12,
      "outputs": [
        {
          "output_type": "execute_result",
          "data": {
            "text/plain": [
              "Index(['hii', 'jai', 'fck'], dtype='object')"
            ]
          },
          "metadata": {},
          "execution_count": 12
        }
      ]
    },
    {
      "cell_type": "code",
      "source": [
        "my_ser2*2\n",
        "# BROADCASTING can be done"
      ],
      "metadata": {
        "colab": {
          "base_uri": "https://localhost:8080/"
        },
        "id": "Cq-ynffYkJ1Y",
        "outputId": "897e3e86-a243-4f9f-bc76-138f3ab780b6"
      },
      "execution_count": 15,
      "outputs": [
        {
          "output_type": "execute_result",
          "data": {
            "text/plain": [
              "hii     4\n",
              "jai     8\n",
              "fck    18\n",
              "dtype: int64"
            ]
          },
          "metadata": {},
          "execution_count": 15
        }
      ]
    },
    {
      "cell_type": "code",
      "source": [
        "my_ser2/100"
      ],
      "metadata": {
        "colab": {
          "base_uri": "https://localhost:8080/"
        },
        "id": "fr4IxHeNlq72",
        "outputId": "5b10709c-26fd-41e2-f436-659009ecba94"
      },
      "execution_count": 18,
      "outputs": [
        {
          "output_type": "execute_result",
          "data": {
            "text/plain": [
              "hii    0.02\n",
              "jai    0.04\n",
              "fck    0.09\n",
              "dtype: float64"
            ]
          },
          "metadata": {},
          "execution_count": 18
        }
      ]
    },
    {
      "cell_type": "code",
      "source": [
        "my_ser + my_ser2\n",
        "# no commen indexes so all values are nan"
      ],
      "metadata": {
        "colab": {
          "base_uri": "https://localhost:8080/"
        },
        "id": "Se7qw4eMnzSF",
        "outputId": "de37cbcb-2f6b-4505-a991-8b1dcda258ae"
      },
      "execution_count": 20,
      "outputs": [
        {
          "output_type": "execute_result",
          "data": {
            "text/plain": [
              "fck         NaN\n",
              "harsha      NaN\n",
              "hii         NaN\n",
              "jai         NaN\n",
              "rupesh      NaN\n",
              "shanmukh    NaN\n",
              "dtype: object"
            ]
          },
          "metadata": {},
          "execution_count": 20
        }
      ]
    },
    {
      "cell_type": "code",
      "source": [
        "ser3 = pd.Series({'nani':100,'sundar_pichai':90,'kane_S_w':95})"
      ],
      "metadata": {
        "id": "u0-SnDWVo3vE"
      },
      "execution_count": 23,
      "outputs": []
    },
    {
      "cell_type": "code",
      "source": [
        "my_ser2.add(ser3,fill_value = 0)"
      ],
      "metadata": {
        "colab": {
          "base_uri": "https://localhost:8080/"
        },
        "id": "dk_ns3KTpPZY",
        "outputId": "42a46935-3413-4e44-e5f0-b7dfe32a7320"
      },
      "execution_count": 26,
      "outputs": [
        {
          "output_type": "execute_result",
          "data": {
            "text/plain": [
              "fck                9.0\n",
              "hii                2.0\n",
              "jai                4.0\n",
              "kane_S_w          95.0\n",
              "nani             100.0\n",
              "sundar_pichai     90.0\n",
              "dtype: float64"
            ]
          },
          "metadata": {},
          "execution_count": 26
        }
      ]
    },
    {
      "cell_type": "code",
      "source": [
        "# this is all about series\n",
        "# initializing\n",
        "# simple operations\n",
        "# adding two series"
      ],
      "metadata": {
        "id": "mu-3YH7VpWO2"
      },
      "execution_count": 27,
      "outputs": []
    },
    {
      "cell_type": "code",
      "source": [
        ""
      ],
      "metadata": {
        "id": "sF6CxJstqU-K"
      },
      "execution_count": null,
      "outputs": []
    }
  ]
}